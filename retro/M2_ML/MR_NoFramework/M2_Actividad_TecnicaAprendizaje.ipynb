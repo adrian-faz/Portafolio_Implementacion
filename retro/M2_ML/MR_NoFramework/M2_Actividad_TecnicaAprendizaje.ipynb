{
  "nbformat": 4,
  "nbformat_minor": 0,
  "metadata": {
    "colab": {
      "provenance": []
    },
    "kernelspec": {
      "name": "python3",
      "display_name": "Python 3"
    },
    "language_info": {
      "name": "python"
    }
  },
  "cells": [
    {
      "cell_type": "markdown",
      "source": [
        "# **Implementación de una técnica de aprendizaje máquina sin el uso de un framework**\n",
        "### Módulo 2: Machine Learning\n",
        "*Adrián Emmanuel Faz Mercado A01570770*"
      ],
      "metadata": {
        "id": "_7cNt-avDKMn"
      }
    },
    {
      "cell_type": "markdown",
      "source": [
        "**Instrucciones**: Programa uno de los algoritmos vistos en el módulo (o que tu profesor de módulo autorice) sin usar ninguna biblioteca o framework de aprendizaje máquina, ni de estadística avanzada. Lo que se busca es que implementes manualmente el algoritmo, no que importes un algoritmo ya implementado.\n",
        "\n",
        "Prueba tu implementación con un set de datos y realiza algunas predicciones. Las predicciones las puedes correr en consola o las puedes implementar con una interfaz gráfica apoyándote en los visto en otros módulos.\n",
        "\n",
        "Trabajaré con la implementación del algoritmo de **Regresión Logística**, implementandola en un problema que solamente tiene 2 posibles resultados (binomial)."
      ],
      "metadata": {
        "id": "oJSorRawTlO4"
      }
    },
    {
      "cell_type": "markdown",
      "source": [
        "## Carga de datos\n",
        "\n",
        "Creamos las listas de los datos que estaremos utilizando, que en este caso son la cantidad de horas que la planta estuvo expuesta al sol por día y la variable que nos dice si sobrevivió al mes.\n",
        "\n",
        "En este caso, estaremos utilizando datos que vienen de un archivo CSV, el cual solamente contiene 2 columnas, las horas promedio por día que pasó la planta en el sol (\"Hours_of_Sunlight\"), y la variable que nos indica si sobrevivió después de un mes. (\"Survived\")."
      ],
      "metadata": {
        "id": "t3TrqLifD8le"
      }
    },
    {
      "cell_type": "code",
      "source": [
        "import pandas as pd\n",
        "import matplotlib.pyplot as plt\n",
        "\n",
        "data = pd.read_csv(\"plants_sunlight_data.csv\")\n",
        "print(data)\n",
        "\n",
        "# Crear lista con los valores de la variable independiente (hours_of_sunlight)\n",
        "x = data[\"Hours_of_Sunlight\"].to_list()\n",
        "\n",
        "# Crear lista con los valores de la variable dependiente (Pass: no = 0, yes = 1)\n",
        "y = data[\"Survived\"].to_list()\n",
        "\n",
        "# Crear lista con los hiper-parámetros iniciales (thetas)\n",
        "theta = [0.1,0.1]\n",
        "\n",
        "# Cargamos el valor del learning rate (alpha)\n",
        "alpha = 0.01"
      ],
      "metadata": {
        "id": "LTZXbaBREZ1i",
        "colab": {
          "base_uri": "https://localhost:8080/"
        },
        "outputId": "41bef064-3b33-45b1-f95d-256eb4431af4"
      },
      "execution_count": 26,
      "outputs": [
        {
          "output_type": "stream",
          "name": "stdout",
          "text": [
            "    Hours_of_Sunlight  Survived\n",
            "0                5.67         1\n",
            "1                3.35         0\n",
            "2                2.42         0\n",
            "3                5.93         1\n",
            "4                5.10         1\n",
            "..                ...       ...\n",
            "95               4.72         1\n",
            "96               5.85         1\n",
            "97               1.16         0\n",
            "98               5.09         1\n",
            "99               5.21         1\n",
            "\n",
            "[100 rows x 2 columns]\n"
          ]
        }
      ]
    },
    {
      "cell_type": "code",
      "source": [
        "# Los datos se distribuyen de la siguiente manera.\n",
        "\n",
        "plt.scatter(x,y)\n",
        "\n"
      ],
      "metadata": {
        "colab": {
          "base_uri": "https://localhost:8080/",
          "height": 447
        },
        "id": "kK8Go9T6Vldl",
        "outputId": "d442718c-29d1-4737-9b7b-e12316a4e4af"
      },
      "execution_count": 27,
      "outputs": [
        {
          "output_type": "execute_result",
          "data": {
            "text/plain": [
              "<matplotlib.collections.PathCollection at 0x7c0d7ad7d180>"
            ]
          },
          "metadata": {},
          "execution_count": 27
        },
        {
          "output_type": "display_data",
          "data": {
            "text/plain": [
              "<Figure size 640x480 with 1 Axes>"
            ],
            "image/png": "[encoded data removed]"
          },
          "metadata": {}
        }
      ]
    },
    {
      "cell_type": "markdown",
      "source": [
        "Dada la gráfica, se espera que los valores que se encuentran entre 0 y 4 horas de sol por día en promedio no sobrevivan, mientras que los que están entre 4 y 6 horas sí sobreviven."
      ],
      "metadata": {
        "id": "vrozetJWWWqB"
      }
    },
    {
      "cell_type": "markdown",
      "source": [
        "También ocupamos una alternativa que nos permita estimar fácilmente la variable dependiente y el total de muestras. Dado que implementaremos la función logística, ocupamos la función exponencial, por lo que requerimos el módulo **math**:"
      ],
      "metadata": {
        "id": "SaRzpQZsE4R3"
      }
    },
    {
      "cell_type": "code",
      "source": [
        "# Importar módulo math\n",
        "import math\n",
        "# Creamos la función lambda para la función de hipótesis\n",
        "h = lambda x,theta: 1 / (1 + math.exp(-(theta[0]+theta[1]*x)))\n",
        "# Calculamos el total de muestras a partir de los datos (n)\n",
        "n = len(y)"
      ],
      "metadata": {
        "id": "Eus7l9R5FEWh"
      },
      "execution_count": 28,
      "outputs": []
    },
    {
      "cell_type": "markdown",
      "source": [
        "Definimos el número de iteraciones a realizar para ajustar los valores de los thetas."
      ],
      "metadata": {
        "id": "38CBkiD4XTLq"
      }
    },
    {
      "cell_type": "code",
      "source": [
        "# Definir total de iteraciones a ejecutar\n",
        "num_iter = 10000"
      ],
      "metadata": {
        "id": "RGmmGfovXanz"
      },
      "execution_count": 29,
      "outputs": []
    },
    {
      "cell_type": "markdown",
      "source": [
        "## Iteraciones\n",
        "En cada iteración debemos calcular el valor de la derivada de la función de costo, que se obtiene a partir de los datos estimados, $h_\\theta(x_i)$, y reales, $y_i$ (recuerde que los estimados se obtienen con la función de hipótesis de la regresión logística):\n",
        "\n",
        "$\\frac{∂J_{θ}}{∂θ_0} = \\frac{1}{n}\\sum_{i=1}^{n}(h_θ(x_i)-y_i)$\n",
        "\n",
        "$\\frac{∂J_{θ}}{∂θ_1} = \\frac{1}{n}\\sum_{i=1}^{n}(h_θ(x_i)-y_i)x_i$\n",
        "\n",
        "Además, debemos actualizar los valores de los hiper-parámetros, recordando que $\\theta_j=\\theta_j-\\alpha \\frac{∂J_{θ}}{∂θ_j}$:"
      ],
      "metadata": {
        "id": "zPEuQ5VwD1LS"
      }
    },
    {
      "cell_type": "code",
      "execution_count": 30,
      "metadata": {
        "id": "yHcybZTvDFIc",
        "colab": {
          "base_uri": "https://localhost:8080/"
        },
        "outputId": "92956273-1fa4-4ccd-9baf-ec60b2f3dddd"
      },
      "outputs": [
        {
          "output_type": "stream",
          "name": "stdout",
          "text": [
            "[-5.334103358722053, 1.5482712581534883]\n"
          ]
        }
      ],
      "source": [
        "# Implementamos ciclo para iteraciones\n",
        "for _ in range(num_iter):\n",
        "  delta = []\n",
        "  delta1 = []\n",
        "  for xi, yi in zip(x,y):\n",
        "    pred = h(xi,theta)\n",
        "    # Calculamos delta para theta0 y para cada muestra\n",
        "    # Calculamos delta para theta1 y para cada muestra\n",
        "    delta.append(pred-yi)\n",
        "    delta1.append((pred-yi)*xi)\n",
        "\n",
        "  # Calculamos sumatorias y promedio\n",
        "  dJt0 = 1/n*sum(delta)\n",
        "  dJt1 = 1/n*sum(delta1)\n",
        "\n",
        "    # Actualizamos theta0\n",
        "    # Actualizamos theta1\n",
        "\n",
        "  theta0 = theta[0] - alpha*dJt0\n",
        "  theta1 = theta[1] - alpha*dJt1\n",
        "  theta = [theta0, theta1]\n",
        "\n",
        "# Imprimimos nuestros thetas actualizado\n",
        "\n",
        "print(theta)"
      ]
    },
    {
      "cell_type": "markdown",
      "source": [
        "## Evaluación del modelo con pruebas."
      ],
      "metadata": {
        "id": "m9qKJK-EN75A"
      }
    },
    {
      "cell_type": "markdown",
      "source": [
        "Para probar el modelo, usaremos una parte del set de datos que no se utilizó para entrenar el modelo, y así revisar que tan adecuado es."
      ],
      "metadata": {
        "id": "EjMXKit-_BhT"
      }
    },
    {
      "cell_type": "code",
      "source": [
        "# Creamos las listas de las \"x\" y \"y\" de prueba.\n",
        "\n",
        "# La variable x_prueba son los valores de x que probaremos y y_prueba son los valores correctos que deberían de ser esperados en nuestro modelo, veremos si son los mismos o que tan parecidos.\n",
        "x_prueba = [3.47,1.88,4.97,3.8,3.21,5.95,2.29,5.17,6.12,2.54]\n",
        "y_prueba = [0,0,1,0,0,1,0,1,1,0]\n",
        "\n",
        "# Creamos la lista vacía donde se acumularán las predicciones del modelo.\n",
        "pred = []\n",
        "\n",
        "# Barremos la entrada y estimamos las salidas:\n",
        "\n",
        "for xi in x_prueba:\n",
        "  result = round(h(xi, theta))\n",
        "  pred.append(result)\n",
        "\n",
        "# Revisamos las y's reales de la prueba contra las predicciones realizadas con el modelo.\n",
        "print(y_prueba)\n",
        "print(pred)\n"
      ],
      "metadata": {
        "id": "gzJs3-OvYP4N",
        "colab": {
          "base_uri": "https://localhost:8080/"
        },
        "outputId": "0d8501e7-6997-46ac-a629-42ab1e594bb8"
      },
      "execution_count": 31,
      "outputs": [
        {
          "output_type": "stream",
          "name": "stdout",
          "text": [
            "[0, 0, 1, 0, 0, 1, 0, 1, 1, 0]\n",
            "[1, 0, 1, 1, 0, 1, 0, 1, 1, 0]\n"
          ]
        }
      ]
    },
    {
      "cell_type": "markdown",
      "source": [
        "Ahora que ya tenemos los valores de las predicciones con nuestras x de prueba, podemos obtener los valores de diferentes métricas para estimar que tan bueno es nuestro clasificador."
      ],
      "metadata": {
        "id": "VlanU2aKP-Mn"
      }
    },
    {
      "cell_type": "markdown",
      "source": [
        "$accuracy = \\frac{VP+VN}{VP+VN+FP+FN}$\n",
        "\n",
        "$precision = \\frac{VP}{VP+FP}$\n",
        "\n",
        "$recall = \\frac{VP}{VP+FN}$\n",
        "\n",
        "$F1 = \\frac{2\\cdot precision \\cdot recall}{precision+recall}$"
      ],
      "metadata": {
        "id": "IMmfd_eBVULl"
      }
    },
    {
      "cell_type": "code",
      "source": [
        "# Inicializar contadores para VP, FP, VN, FN\n",
        "\n",
        "vp = 0\n",
        "vn = 0\n",
        "fp = 0\n",
        "fn = 0\n",
        "\n",
        "# Barremos nuestros datos reales y nuestras predicciones\n",
        "for yr, yp in zip(y_prueba,pred):\n",
        "  if yr == 1 and yp == 1:\n",
        "    vp += 1\n",
        "  elif yr == 0 and yp == 0:\n",
        "    vn += 1\n",
        "  elif yr == 1 and yp == 0:\n",
        "    fn += 1\n",
        "  elif yr == 0 and yp == 1:\n",
        "    fp += 1\n",
        "  else:\n",
        "    print(\"Error\")\n",
        "\n",
        "# Imprimimos nuestra matriz de confusión\n",
        "print(f\"Verdaderos positivos: {vp}\")\n",
        "print(f\"Verdaderos negativos: {vn}\")\n",
        "print(f\"Falsos positivos: {fp}\")\n",
        "print(f\"Falsos negativos: {fn}\")\n",
        "\n",
        "\n",
        "# Calculamos los valores de nuestras métricas\n",
        "accuracy = round((vp + vn) / (vp + vn + fp + fn) * 100,2)\n",
        "precision = round(vp / (vp + fp) * 100,2)\n",
        "recall = round(vp / (vp + fn) * 100,2)\n",
        "f1 = (2*precision*recall) / (precision + recall)\n",
        "\n",
        "print(f\"Accuracy: {accuracy}%\")\n",
        "print(f\"Precision: {precision}%\")\n",
        "print(f\"Recall {recall}%\")\n",
        "print(f\"F1: {f1}\")"
      ],
      "metadata": {
        "id": "2GyKj0syVSsu",
        "colab": {
          "base_uri": "https://localhost:8080/"
        },
        "outputId": "e5e5d898-ae4b-4671-86b6-2006e60707cd"
      },
      "execution_count": 32,
      "outputs": [
        {
          "output_type": "stream",
          "name": "stdout",
          "text": [
            "Verdaderos positivos: 4\n",
            "Verdaderos negativos: 4\n",
            "Falsos positivos: 2\n",
            "Falsos negativos: 0\n",
            "Accuracy: 80.0%\n",
            "Precision: 66.67%\n",
            "Recall 100.0%\n",
            "F1: 80.00239995200096\n"
          ]
        }
      ]
    },
    {
      "cell_type": "markdown",
      "source": [
        "En este caso, se analizó el efecto de la cantidad de horas promedio por día que una planta se expone al sol y en base a eso, tratamos de predecir si la planta va a sobrevivir o no.\n",
        "\n",
        "Se trabajó con un una regresión logística con solamente 2 posibles salidas, buscando que se pueda clasificar si una planta sobreviviría o no sobreviviría, tomando como entrenamiento los datos que se le presentaron.\n",
        "\n",
        "Finalmente, se obtuvieron las métricas de desempeño del modelo con una muestra de 10 datos de prueba, y si bien los resultados fueron buenos, es importante tomar en cuenta que para tener una mayor certeza sería bueno considerar usar una mayor muestra para pruebas, y buscar que los datos estén distribuidos lo más adecuado posible.\n",
        "\n",
        "Al revisar las pruebas y el modelo, se podría decir que está aprendiendo la tendencia correctamente, pues mientras menos sean las horas promedio que la planta estuvo expuesta al sol, menor es la probabilidad de que sobreviva."
      ],
      "metadata": {
        "id": "rgxsmTeHRnYj"
      }
    },
    {
      "cell_type": "code",
      "source": [
        "# Finalmente, la función del modelo se ve de la siguiente manera:\n",
        "\n",
        "import matplotlib\n",
        "import numpy as np\n",
        "\n",
        "x = np.linspace(0, 7, 1000)\n",
        "\n",
        "# Calcula y utilizando la función lambda para cada valor de x\n",
        "y = [h(i,theta) for i in x]\n",
        "\n",
        "# Graficando la función\n",
        "plt.figure(figsize=(8,6))\n",
        "plt.plot(x, y)\n",
        "plt.title('Función Modelo')\n",
        "plt.xlabel('Horas de Sol')\n",
        "plt.ylabel('Probabilidad de Sobrevivencia')\n",
        "plt.grid(True)\n",
        "plt.show()\n",
        "\n",
        "# Para seguir analizando el modelo, habría que quizás usar más datos de entrenamiento y probar con diferentes valores iniciales de theta y modificar el learning rate."
      ],
      "metadata": {
        "colab": {
          "base_uri": "https://localhost:8080/",
          "height": 601
        },
        "id": "WZeDMd7OUQUG",
        "outputId": "c243bff9-99ea-4d47-b0d6-6bec516f5bf1"
      },
      "execution_count": 33,
      "outputs": [
        {
          "output_type": "stream",
          "name": "stderr",
          "text": [
            "WARNING:matplotlib.legend:No artists with labels found to put in legend.  Note that artists whose label start with an underscore are ignored when legend() is called with no argument.\n"
          ]
        },
        {
          "output_type": "display_data",
          "data": {
            "text/plain": [
              "<Figure size 800x600 with 1 Axes>"
            ],
            "image/png": "[encoded data removed]"
          },
          "metadata": {}
        }
      ]
    }
  ]
}