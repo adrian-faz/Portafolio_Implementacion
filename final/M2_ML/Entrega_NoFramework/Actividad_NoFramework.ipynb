{
  "nbformat": 4,
  "nbformat_minor": 0,
  "metadata": {
    "colab": {
      "provenance": []
    },
    "kernelspec": {
      "name": "python3",
      "display_name": "Python 3"
    },
    "language_info": {
      "name": "python"
    }
  },
  "cells": [
    {
      "cell_type": "markdown",
      "source": [
        "# **Implementación de una técnica de aprendizaje máquina sin el uso de un framework**\n",
        "### Módulo 2: Machine Learning\n",
        "*Adrián Emmanuel Faz Mercado A01570770*"
      ],
      "metadata": {
        "id": "_7cNt-avDKMn"
      }
    },
    {
      "cell_type": "markdown",
      "source": [
        "**Dataset**: plants_sunlight_data.csv\n",
        "\n",
        "\n",
        "**Liga al dataset**: https://github.com/adrian-faz/Portafolio_Implementacion/blob/main/final/M2_ML/Entrega_NoFramework/plants_sunlight_data.csv\n",
        "\n",
        "\n",
        "\n",
        "**Descripción del dataset**: El dataset de \"plants_sunlight_data.csv\" contiene registros de la cantidad de horas promedio al día que esta expuesta una planta al sol y una columna que indica si la planta sobrevivió después de un mes o no. El set de datos cuenta con 100 registros, y cada registro tiene las siguientes columnas:\n",
        "* Hours_of_sunlight\n",
        "* Survived\n",
        "\n",
        "La columna de hours_of_sunlight tiene valores decimales entre 0 y 8 aproximadamente, y la columna de survived solo tiene las salidas 1 y 0, en donde 1 indica que la planta sobrevivió, y el 0 que la planta no sobrevivió.\n",
        "\n",
        "**Problema a resolver**: El problema presentado se trata de **clasificación**, pues lo que se busca es crear un modelo que permita clasificar una muestra (planta) en base a la cantidad de horas promedio por día que estuvo bajo el sol después de un mes. Se trata de clasificación porque se busca que el modelo sea capaz de clasificar si el registro sobrevivió o no. Se trata de un problema de clasificación binomial, pues solamente hay 2 posibles salidas (Sobrevive o no).\n"
      ],
      "metadata": {
        "id": "oJSorRawTlO4"
      }
    },
    {
      "cell_type": "markdown",
      "source": [
        "## Carga de datos\n",
        "\n",
        "Creamos las listas de los datos que estaremos utilizando, que en este caso son la cantidad de horas que la planta estuvo expuesta al sol por día y la variable que nos dice si sobrevivió al mes.\n",
        "\n",
        "En este caso, estaremos utilizando datos que vienen de un archivo CSV, el cual solamente contiene 2 columnas, las horas promedio por día que pasó la planta en el sol (\"Hours_of_Sunlight\"), y la variable que nos indica si sobrevivió después de un mes. (\"Survived\")."
      ],
      "metadata": {
        "id": "t3TrqLifD8le"
      }
    },
    {
      "cell_type": "code",
      "source": [
        "import pandas as pd\n",
        "import matplotlib.pyplot as plt\n",
        "from sklearn.model_selection import train_test_split\n",
        "\n",
        "data = pd.read_csv(\"plants_sunlight_data.csv\")\n",
        "\n",
        "# Crear lista con los valores de la variable independiente (hours_of_sunlight)\n",
        "y = data[\"Survived\"]\n",
        "print(type(y))\n",
        "x = data[\"Hours_of_Sunlight\"]\n",
        "\n",
        "# Dividimos nuestros datos en entrenamiento y prueba\n",
        "X_train, X_test, y_train, y_test = train_test_split(x, y, test_size=0.2, random_state=13)\n",
        "\n",
        "y_train = y_train.to_list()\n",
        "y_test = y_test.to_list()\n",
        "\n",
        "# Crear lista con los hiper-parámetros iniciales (thetas)\n",
        "theta = [0.1,0.1]\n",
        "\n",
        "# Cargamos el valor del learning rate (alpha)\n",
        "alpha = 0.01"
      ],
      "metadata": {
        "id": "LTZXbaBREZ1i",
        "colab": {
          "base_uri": "https://localhost:8080/"
        },
        "outputId": "b4882a09-402e-425b-d3d0-79cfdee8b5e7"
      },
      "execution_count": 107,
      "outputs": [
        {
          "output_type": "stream",
          "name": "stdout",
          "text": [
            "<class 'pandas.core.series.Series'>\n"
          ]
        }
      ]
    },
    {
      "cell_type": "code",
      "source": [
        "# Los datos se distribuyen de la siguiente manera.\n",
        "\n",
        "plt.scatter(x,y)\n"
      ],
      "metadata": {
        "colab": {
          "base_uri": "https://localhost:8080/",
          "height": 448
        },
        "id": "kK8Go9T6Vldl",
        "outputId": "a845386f-3fae-4df5-807d-e3baafac4a4b"
      },
      "execution_count": 108,
      "outputs": [
        {
          "output_type": "execute_result",
          "data": {
            "text/plain": [
              "<matplotlib.collections.PathCollection at 0x7f529b9e5b10>"
            ]
          },
          "metadata": {},
          "execution_count": 108
        },
        {
          "output_type": "display_data",
          "data": {
            "text/plain": [
              "<Figure size 640x480 with 1 Axes>"
            ],
            "image/png": "[encoded data removed]"
          },
          "metadata": {}
        }
      ]
    },
    {
      "cell_type": "markdown",
      "source": [
        "Dada la gráfica, se espera que los valores que se encuentran entre 0 y 4 horas de sol por día en promedio no sobrevivan, mientras que los que están entre 4 y 6 horas sí sobreviven."
      ],
      "metadata": {
        "id": "vrozetJWWWqB"
      }
    },
    {
      "cell_type": "markdown",
      "source": [
        "También ocupamos una alternativa que nos permita estimar fácilmente la variable dependiente y el total de muestras. Dado que implementaremos la función logística, ocupamos la función exponencial, por lo que requerimos el módulo **math**:"
      ],
      "metadata": {
        "id": "SaRzpQZsE4R3"
      }
    },
    {
      "cell_type": "code",
      "source": [
        "# Importar módulo math\n",
        "import math\n",
        "# Creamos la función lambda para la función de hipótesis\n",
        "h = lambda x,theta: 1 / (1 + math.exp(-(theta[0]+theta[1]*x)))\n",
        "# Calculamos el total de muestras a partir de los datos (n)\n",
        "n = len(y_train)"
      ],
      "metadata": {
        "id": "Eus7l9R5FEWh"
      },
      "execution_count": 109,
      "outputs": []
    },
    {
      "cell_type": "markdown",
      "source": [
        "Definimos el número de iteraciones a realizar para ajustar los valores de los thetas."
      ],
      "metadata": {
        "id": "38CBkiD4XTLq"
      }
    },
    {
      "cell_type": "code",
      "source": [
        "# Definir total de iteraciones a ejecutar\n",
        "num_iter = 5000"
      ],
      "metadata": {
        "id": "RGmmGfovXanz"
      },
      "execution_count": 110,
      "outputs": []
    },
    {
      "cell_type": "markdown",
      "source": [
        "## Iteraciones\n",
        "En cada iteración debemos calcular el valor de la derivada de la función de costo, que se obtiene a partir de los datos estimados, $h_\\theta(x_i)$, y reales, $y_i$ (recuerde que los estimados se obtienen con la función de hipótesis de la regresión logística):\n",
        "\n",
        "$\\frac{∂J_{θ}}{∂θ_0} = \\frac{1}{n}\\sum_{i=1}^{n}(h_θ(x_i)-y_i)$\n",
        "\n",
        "$\\frac{∂J_{θ}}{∂θ_1} = \\frac{1}{n}\\sum_{i=1}^{n}(h_θ(x_i)-y_i)x_i$\n",
        "\n",
        "Además, debemos actualizar los valores de los hiper-parámetros, recordando que $\\theta_j=\\theta_j-\\alpha \\frac{∂J_{θ}}{∂θ_j}$:"
      ],
      "metadata": {
        "id": "zPEuQ5VwD1LS"
      }
    },
    {
      "cell_type": "code",
      "execution_count": 111,
      "metadata": {
        "id": "yHcybZTvDFIc",
        "colab": {
          "base_uri": "https://localhost:8080/"
        },
        "outputId": "11a5c86e-2ada-4d8c-fb18-d0b7db68f280"
      },
      "outputs": [
        {
          "output_type": "stream",
          "name": "stdout",
          "text": [
            "[-3.805703801495704, 1.1656196419917213]\n"
          ]
        }
      ],
      "source": [
        "# Implementamos ciclo para iteraciones\n",
        "for _ in range(num_iter):\n",
        "  delta = []\n",
        "  delta1 = []\n",
        "  for xi, yi in zip(X_train,y_train):\n",
        "    pred = h(xi,theta)\n",
        "    # Calculamos delta para theta0 y para cada muestra\n",
        "    # Calculamos delta para theta1 y para cada muestra\n",
        "    delta.append(pred-yi)\n",
        "    delta1.append((pred-yi)*xi)\n",
        "\n",
        "  # Calculamos sumatorias y promedio\n",
        "  dJt0 = 1/n*sum(delta)\n",
        "  dJt1 = 1/n*sum(delta1)\n",
        "\n",
        "    # Actualizamos theta0\n",
        "    # Actualizamos theta1\n",
        "\n",
        "  theta0 = theta[0] - alpha*dJt0\n",
        "  theta1 = theta[1] - alpha*dJt1\n",
        "  theta = [theta0, theta1]\n",
        "\n",
        "# Imprimimos nuestros thetas actualizado\n",
        "\n",
        "print(theta)"
      ]
    },
    {
      "cell_type": "markdown",
      "source": [
        "## Evaluación del modelo"
      ],
      "metadata": {
        "id": "m9qKJK-EN75A"
      }
    },
    {
      "cell_type": "markdown",
      "source": [
        "Para probar el modelo, usaremos los datos de prueba que se definieron al inicio al dividir nuestros datos en entrenamiento y prueba.\n",
        "\n",
        "Calcularemos predicciones para nuestro set de entrenamiento y para nuestro set de prueba, para analizar después métricas de desempeño de ambos."
      ],
      "metadata": {
        "id": "EjMXKit-_BhT"
      }
    },
    {
      "cell_type": "code",
      "source": [
        "# Creamos las listas donde se irán almacenando los resultados de las predicciones.\n",
        "\n",
        "pred_train = []\n",
        "pred_test = []\n",
        "\n",
        "for xi in X_train:\n",
        "  result = round(h(xi, theta))\n",
        "  pred_train.append(result)\n",
        "\n",
        "for xi in X_test:\n",
        "  result = round(h(xi, theta))\n",
        "  pred_test.append(result)"
      ],
      "metadata": {
        "id": "gzJs3-OvYP4N"
      },
      "execution_count": 112,
      "outputs": []
    },
    {
      "cell_type": "markdown",
      "source": [
        "### **Definición de métricas**\n",
        "\n",
        "Ahora que ya tenemos los valores de las predicciones con nuestras x de prueba, podemos obtener los valores de diferentes métricas para estimar que tan bueno es nuestro clasificador.\n",
        "\n",
        "En este caso, vamos a trabajar con 2 métricas de desempeño en particular:\n",
        "* **Accuracy**: Esta métrica nos permite conocer la proporción de predicciones correctas entre el número total de predicciones realizadas. Es la suma de verdaderos positivos y verdaderos negativos entre la cantidad total de pruebas.\n",
        "\n",
        "   * $accuracy = \\frac{VP+VN}{VP+VN+FP+FN}$\n",
        "\n",
        "* **Precision**: La precisión nos indica la proporción de predicciones positivas que fueron efectivamente correctas. Se calcula dividiendo la\n",
        "\n",
        "   * $precision = \\frac{VP}{VP+FP}$\n",
        "\n",
        "\n",
        "\n",
        "\n",
        "Para obtener estas métricas, es necesario obtener los valores de una matriz de confusión, la cual está compuesta por:\n",
        "\n",
        "* Verdaderos positivos (VP) - El modelo predijo la clase positiva y la verdadera etiqueta también era positiva.\n",
        "* Verdaderos negativos (VN) - El modelo predijo la clase negativa y la verdadera etiqueta también era negativa.\n",
        "* Falsos positivos (FP) - El modelo predijo la clase positivo y la verdadera etiqueta era negativa.\n",
        "* Falsos negativos (FN) - El modelo predijo la clase negativa y la verdadera etiqueta era positiva."
      ],
      "metadata": {
        "id": "VlanU2aKP-Mn"
      }
    },
    {
      "cell_type": "markdown",
      "source": [
        "### Métricas de desempeño de datos de entrenamiento"
      ],
      "metadata": {
        "id": "T-fTSbd8MhJ0"
      }
    },
    {
      "cell_type": "code",
      "source": [
        "# Inicializamos contadores para VP, FP, VN, FN\n",
        "\n",
        "vp = 0\n",
        "vn = 0\n",
        "fp = 0\n",
        "fn = 0\n",
        "\n",
        "# Barremos nuestros datos reales y nuestras predicciones\n",
        "for yr, yp in zip(y_train,pred_train):\n",
        "  if yr == 1 and yp == 1:\n",
        "    vp += 1\n",
        "  elif yr == 0 and yp == 0:\n",
        "    vn += 1\n",
        "  elif yr == 1 and yp == 0:\n",
        "    fn += 1\n",
        "  elif yr == 0 and yp == 1:\n",
        "    fp += 1\n",
        "  else:\n",
        "    print(\"Error\")\n",
        "\n",
        "print(\"Matriz de confusión\")\n",
        "print(\"---------------------\")\n",
        "# Imprimimos nuestra matriz de confusión\n",
        "print(f\"Verdaderos positivos: {vp}\")\n",
        "print(f\"Verdaderos negativos: {vn}\")\n",
        "print(f\"Falsos positivos: {fp}\")\n",
        "print(f\"Falsos negativos: {fn}\")\n",
        "\n",
        "# Calculamos los valores de nuestras métricas\n",
        "accuracy = round((vp + vn) / (vp + vn + fp + fn) * 100,2)\n",
        "precision = round(vp / (vp + fp) * 100,2)\n",
        "\n",
        "\n",
        "print(\"\\nMétricas de desempeño\")\n",
        "print(\"---------------------\")\n",
        "print(f\"Accuracy: {accuracy}%\")\n",
        "print(f\"Precision: {precision}%\")"
      ],
      "metadata": {
        "id": "2GyKj0syVSsu",
        "colab": {
          "base_uri": "https://localhost:8080/"
        },
        "outputId": "53d57731-e7d6-4d94-be1d-d7b35a2a84d5"
      },
      "execution_count": 113,
      "outputs": [
        {
          "output_type": "stream",
          "name": "stdout",
          "text": [
            "Matriz de confusión\n",
            "---------------------\n",
            "Verdaderos positivos: 41\n",
            "Verdaderos negativos: 33\n",
            "Falsos positivos: 6\n",
            "Falsos negativos: 0\n",
            "\n",
            "Métricas de desempeño\n",
            "---------------------\n",
            "Accuracy: 92.5%\n",
            "Precision: 87.23%\n"
          ]
        }
      ]
    },
    {
      "cell_type": "markdown",
      "source": [
        "En este caso, para los datos de entrenamiento, obtuvimos un porcentaje de accuracy de 92.5%, y uno de precisión de 87.23%. Estos son buenos porcentajes pues nos indican que la regresión se ajusta bastante bien a los datos de entrenamiento, sin embargo, también hay que revisar el desempeño en datos que no haya visto el modelo, para así verificar que funcione con datos generales."
      ],
      "metadata": {
        "id": "MGzhgRA_RLlT"
      }
    },
    {
      "cell_type": "markdown",
      "source": [
        "### Métricas de desempeño de datos de prueba"
      ],
      "metadata": {
        "id": "sgycgLNLMxty"
      }
    },
    {
      "cell_type": "code",
      "source": [
        "# Inicializamos contadores para VP, FP, VN, FN\n",
        "\n",
        "vp = 0\n",
        "vn = 0\n",
        "fp = 0\n",
        "fn = 0\n",
        "\n",
        "# Barremos nuestros datos reales y nuestras predicciones\n",
        "for yr, yp in zip(y_test,pred_test):\n",
        "  if yr == 1 and yp == 1:\n",
        "    vp += 1\n",
        "  elif yr == 0 and yp == 0:\n",
        "    vn += 1\n",
        "  elif yr == 1 and yp == 0:\n",
        "    fn += 1\n",
        "  elif yr == 0 and yp == 1:\n",
        "    fp += 1\n",
        "  else:\n",
        "    print(\"Error\")\n",
        "\n",
        "print(\"Matriz de confusión\")\n",
        "print(\"---------------------\")\n",
        "# Imprimimos nuestra matriz de confusión\n",
        "print(f\"Verdaderos positivos: {vp}\")\n",
        "print(f\"Verdaderos negativos: {vn}\")\n",
        "print(f\"Falsos positivos: {fp}\")\n",
        "print(f\"Falsos negativos: {fn}\")\n",
        "\n",
        "\n",
        "# Calculamos los valores de nuestras métricas\n",
        "accuracy = round((vp + vn) / (vp + vn + fp + fn) * 100,2)\n",
        "precision = round(vp / (vp + fp) * 100,2)\n",
        "\n",
        "print(\"\\nMétricas de desempeño\")\n",
        "print(\"---------------------\")\n",
        "print(f\"Accuracy: {accuracy}%\")\n",
        "print(f\"Precision: {precision}%\")"
      ],
      "metadata": {
        "colab": {
          "base_uri": "https://localhost:8080/"
        },
        "id": "za3ELKeYMxYM",
        "outputId": "357e337b-629e-4dae-be4e-d5a06538802e"
      },
      "execution_count": 114,
      "outputs": [
        {
          "output_type": "stream",
          "name": "stdout",
          "text": [
            "Matriz de confusión\n",
            "---------------------\n",
            "Verdaderos positivos: 9\n",
            "Verdaderos negativos: 10\n",
            "Falsos positivos: 1\n",
            "Falsos negativos: 0\n",
            "\n",
            "Métricas de desempeño\n",
            "---------------------\n",
            "Accuracy: 95.0%\n",
            "Precision: 90.0%\n"
          ]
        }
      ]
    },
    {
      "cell_type": "markdown",
      "source": [
        "Para los datos de prueba, se obtuvo un 95% de Accuracy y un 90% de Precision, los cuales son valores muy buenos y además están muy cercanos al desempeño de los datos de entrenamiento, lo cual nos indica que el modelo parece tener también una buena capacidad de clasificar datos que no han sido vistos."
      ],
      "metadata": {
        "id": "grsqH1c2Rfrb"
      }
    },
    {
      "cell_type": "markdown",
      "source": [
        "En este caso, se analizó el efecto de la cantidad de horas promedio por día que una planta se expone al sol y en base a eso, tratamos de predecir si la planta va a sobrevivir o no.\n",
        "\n",
        "Se trabajó con un una regresión logística con solamente 2 posibles salidas, buscando que se pueda clasificar si una planta sobreviviría o no sobreviviría, tomando como entrenamiento los datos que se le presentaron.\n",
        "\n",
        "Se obtuvieron las métricas de desempeño del modelo tanto para los datos con los que se entrenó el modelo, como para los datos que se reservaron para prueba y que no han sido vistos por el modelo.\n",
        "\n",
        "Se obtienen las métricas de ambos para verificar que el modelo no esté solamente memorizando los datos, y para revisar qué tan bien funciona con datos que no han sido vistos."
      ],
      "metadata": {
        "id": "rgxsmTeHRnYj"
      }
    },
    {
      "cell_type": "markdown",
      "source": [
        "### **Comparación entre predicciones generadas y valores reales**"
      ],
      "metadata": {
        "id": "mPxJ-1D6OUmj"
      }
    },
    {
      "cell_type": "code",
      "source": [
        "import random\n",
        "# Seleccionamos 5 valores aleatorios del set de testing.\n",
        "random_indices = random.sample(range(len(X_test)), 5)\n",
        "\n",
        "# Usamos estos índices para seleccionar los valores respectivos de X y Y\n",
        "random_x_test = X_test.iloc[random_indices]\n",
        "\n",
        "# Creamos una lista para almacenar las predicciones y las y's reales de los índices seleccionados.\n",
        "random_pred = []\n",
        "real_y = []\n",
        "\n",
        "for xi in random_x_test:\n",
        "  pred = round(h(xi, theta))\n",
        "  random_pred.append(pred)\n",
        "\n",
        "for idx in random_indices:\n",
        "  y1 = y_test[idx]\n",
        "  real_y.append(y1)\n",
        "\n",
        "# Creamos una tabla para comparar nuestros valores de prueba.\n",
        "comparison_table = pd.DataFrame({\n",
        "    'Predicted_y': random_pred,\n",
        "    'Real_y': real_y\n",
        "})\n",
        "\n",
        "print(\"Comparison Table:\")\n",
        "print(comparison_table)"
      ],
      "metadata": {
        "colab": {
          "base_uri": "https://localhost:8080/"
        },
        "id": "pxzJDc2eOb6b",
        "outputId": "0d9e060c-dddf-40a0-e422-80389bc1fc79"
      },
      "execution_count": 120,
      "outputs": [
        {
          "output_type": "stream",
          "name": "stdout",
          "text": [
            "Comparison Table:\n",
            "   Predicted_y  Real_y\n",
            "0            1       1\n",
            "1            0       0\n",
            "2            0       0\n",
            "3            0       0\n",
            "4            0       0\n"
          ]
        }
      ]
    },
    {
      "cell_type": "markdown",
      "source": [
        "En la prueba realizada, los 5 registros aleatorios que se seleccionaron fueron clasificados correctamente. Sin embargo, esto podría variar pues cada vez que se corre el bloque de código, se van a seleccionar diferentes pruebas del set total de pruebas."
      ],
      "metadata": {
        "id": "RFHR3WudQzlm"
      }
    },
    {
      "cell_type": "markdown",
      "source": [
        "Finalmente, como ejercicio extra, graficaremos la función a la que se llegó, la cual nos puede dar una idea de qué manera se comporta el modelo para los diferentes posibles valores de x (horas de sol)."
      ],
      "metadata": {
        "id": "GpC_HFLRR1_z"
      }
    },
    {
      "cell_type": "code",
      "source": [
        "# Finalmente, la función del modelo se ve de la siguiente manera:\n",
        "\n",
        "import matplotlib\n",
        "import numpy as np\n",
        "\n",
        "x = np.linspace(0, 7, 1000)\n",
        "\n",
        "# Calcula y utilizando la función lambda para cada valor de x\n",
        "y = [h(i,theta) for i in x]\n",
        "\n",
        "# Graficando la función\n",
        "plt.figure(figsize=(8,6))\n",
        "plt.plot(x, y)\n",
        "plt.title('Función Modelo')\n",
        "plt.xlabel('Horas de Sol')\n",
        "plt.ylabel('Probabilidad de Sobrevivencia')\n",
        "plt.grid(True)\n",
        "plt.show()\n",
        "\n",
        "# Para seguir analizando el modelo, habría que quizás usar más datos de entrenamiento y probar con diferentes valores iniciales de theta y modificar el learning rate."
      ],
      "metadata": {
        "colab": {
          "base_uri": "https://localhost:8080/",
          "height": 564
        },
        "id": "WZeDMd7OUQUG",
        "outputId": "94c47787-8cdb-4f05-f9cd-617d08c1148e"
      },
      "execution_count": 116,
      "outputs": [
        {
          "output_type": "display_data",
          "data": {
            "text/plain": [
              "<Figure size 800x600 with 1 Axes>"
            ],
            "image/png": "[encoded data removed]"
          },
          "metadata": {}
        }
      ]
    }
  ]
}