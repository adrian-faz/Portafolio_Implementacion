{
  "nbformat": 4,
  "nbformat_minor": 0,
  "metadata": {
    "colab": {
      "provenance": []
    },
    "kernelspec": {
      "name": "python3",
      "display_name": "Python 3"
    },
    "language_info": {
      "name": "python"
    }
  },
  "cells": [
    {
      "cell_type": "markdown",
      "source": [
        "# **Uso de framework o biblioteca de aprendizaje máquina para la implementación de una solución.**\n",
        "### Módulo 2: Machine Learning\n",
        "*Adrián Emmanuel Faz Mercado A01570770*"
      ],
      "metadata": {
        "id": "qqzkoghd9Rjk"
      }
    },
    {
      "cell_type": "markdown",
      "source": [
        "**Dataset**: iris.csv\n",
        "\n",
        "**Liga al dataset**: https://www.kaggle.com/datasets/uciml/iris\n",
        "\n",
        "**Descripción del dataset**: El dataset de \"iris.csv\" contiene información y registros de diferentes características de tres especies de Iris recogidas por el botánico Edgar Anderson. Existen 150 registros, y cada registro tiene las siguientes características:\n",
        "* Petal_Length\n",
        "* Petal_Width\n",
        "* Sepal_Length\n",
        "* Sepal_Width\n",
        "\n",
        "**Problema a resolver**: El problema presentado se trata de **clasificación**, pues lo que se busca es crear un modelo que permita clasificar una muestra en base a sus características como longitud de los pétalos, anchura de los pétalos, entre otros. Se trata de clasificación porque se busca que el modelo sea capaz de clasificar a cuál de las 3 posibles clases pertenece una muestra de iris.\n"
      ],
      "metadata": {
        "id": "93BwjvkxGco7"
      }
    },
    {
      "cell_type": "markdown",
      "source": [
        "Importamos las librerías que se necesitarán"
      ],
      "metadata": {
        "id": "DqqLclzSReWo"
      }
    },
    {
      "cell_type": "code",
      "source": [
        "import pandas as pd\n",
        "from sklearn.model_selection import train_test_split\n",
        "from sklearn.metrics import *\n",
        "from sklearn.tree import DecisionTreeClassifier\n",
        "from sklearn.tree import plot_tree"
      ],
      "metadata": {
        "id": "criXyN53Rkba"
      },
      "execution_count": 152,
      "outputs": []
    },
    {
      "cell_type": "markdown",
      "source": [
        "Cargamos los datos y asignamos nuestras variables de X y Y."
      ],
      "metadata": {
        "id": "lIdtnqMcRnsx"
      }
    },
    {
      "cell_type": "code",
      "source": [
        "data = pd.read_csv(\"iris.csv\")\n",
        "# Se elimina el Id, para que no afecte en el modelo.\n",
        "data = data.drop(['Id'], axis = 1)\n",
        "\n",
        "# Le asignamos \"Species\" a Y porque es nuestra variable de salida, la que queremos predecir.\n",
        "Y = data[\"Species\"]\n",
        "\n",
        "# Asignamos las demás columnas como la variable X, pues nos ayudarán con el entrenamiento.\n",
        "X = data.drop(['Species'], axis = 1)\n",
        "\n",
        "# Dividimos los datos en datos de entrenamiento y datos de testeo.\n",
        "X_train, X_test, y_train, y_test = train_test_split(X, Y, test_size=0.2, random_state=13)"
      ],
      "metadata": {
        "id": "hKWRQgiQIr9_"
      },
      "execution_count": 153,
      "outputs": []
    },
    {
      "cell_type": "markdown",
      "source": [
        "Creación de nuestro objeto del modelo, en este caso vamos a modificar el parámetro **criterion** para que se base en la entropía para realizar la división y la creación del modelo."
      ],
      "metadata": {
        "id": "xOEJIxFMVfYx"
      }
    },
    {
      "cell_type": "code",
      "source": [
        "# Creamos nuestro objeto de Árbol de Decisión.\n",
        "myTree = DecisionTreeClassifier(criterion=\"entropy\")\n",
        "myTree.fit(X_train,y_train)\n",
        "\n",
        "# Obtenemos las predicciones de los valores de prueba utilizando el modelo.\n",
        "y_test_pred = myTree.predict(X_test)\n",
        "plot_tree(myTree)"
      ],
      "metadata": {
        "id": "FqC7V_uJVe1Y",
        "colab": {
          "base_uri": "https://localhost:8080/",
          "height": 701
        },
        "outputId": "564d7850-44a2-4c8a-d144-bfc4afa3db35"
      },
      "execution_count": 154,
      "outputs": [
        {
          "output_type": "execute_result",
          "data": {
            "text/plain": [
              "[Text(0.5, 0.9166666666666666, 'x[3] <= 0.8\\nentropy = 1.583\\nsamples = 120\\nvalue = [41, 42, 37]'),\n",
              " Text(0.4230769230769231, 0.75, 'entropy = 0.0\\nsamples = 41\\nvalue = [41, 0, 0]'),\n",
              " Text(0.5769230769230769, 0.75, 'x[3] <= 1.75\\nentropy = 0.997\\nsamples = 79\\nvalue = [0, 42, 37]'),\n",
              " Text(0.3076923076923077, 0.5833333333333334, 'x[2] <= 4.95\\nentropy = 0.433\\nsamples = 45\\nvalue = [0, 41, 4]'),\n",
              " Text(0.15384615384615385, 0.4166666666666667, 'x[3] <= 1.65\\nentropy = 0.169\\nsamples = 40\\nvalue = [0, 39, 1]'),\n",
              " Text(0.07692307692307693, 0.25, 'entropy = 0.0\\nsamples = 39\\nvalue = [0, 39, 0]'),\n",
              " Text(0.23076923076923078, 0.25, 'entropy = 0.0\\nsamples = 1\\nvalue = [0, 0, 1]'),\n",
              " Text(0.46153846153846156, 0.4166666666666667, 'x[1] <= 2.65\\nentropy = 0.971\\nsamples = 5\\nvalue = [0, 2, 3]'),\n",
              " Text(0.38461538461538464, 0.25, 'entropy = 0.0\\nsamples = 2\\nvalue = [0, 0, 2]'),\n",
              " Text(0.5384615384615384, 0.25, 'x[0] <= 6.95\\nentropy = 0.918\\nsamples = 3\\nvalue = [0, 2, 1]'),\n",
              " Text(0.46153846153846156, 0.08333333333333333, 'entropy = 0.0\\nsamples = 2\\nvalue = [0, 2, 0]'),\n",
              " Text(0.6153846153846154, 0.08333333333333333, 'entropy = 0.0\\nsamples = 1\\nvalue = [0, 0, 1]'),\n",
              " Text(0.8461538461538461, 0.5833333333333334, 'x[2] <= 4.85\\nentropy = 0.191\\nsamples = 34\\nvalue = [0, 1, 33]'),\n",
              " Text(0.7692307692307693, 0.4166666666666667, 'x[0] <= 6.05\\nentropy = 1.0\\nsamples = 2\\nvalue = [0, 1, 1]'),\n",
              " Text(0.6923076923076923, 0.25, 'entropy = 0.0\\nsamples = 1\\nvalue = [0, 1, 0]'),\n",
              " Text(0.8461538461538461, 0.25, 'entropy = 0.0\\nsamples = 1\\nvalue = [0, 0, 1]'),\n",
              " Text(0.9230769230769231, 0.4166666666666667, 'entropy = 0.0\\nsamples = 32\\nvalue = [0, 0, 32]')]"
            ]
          },
          "metadata": {},
          "execution_count": 154
        },
        {
          "output_type": "display_data",
          "data": {
            "text/plain": [
              "<Figure size 640x480 with 1 Axes>"
            ],
            "image/png": "[encoded data removed]"
          },
          "metadata": {}
        }
      ]
    },
    {
      "cell_type": "markdown",
      "source": [
        "Seleccionamos 3 valores de prueba aleatorios para revisar la comparación entre la predicción con los valores reales."
      ],
      "metadata": {
        "id": "8LL-QRJ0Z63N"
      }
    },
    {
      "cell_type": "code",
      "source": [
        "from sklearn.metrics import classification_report\n",
        "\n",
        "y_train_pred = myTree.predict(X_train)\n",
        "\n",
        "accuracy = accuracy_score(y_train_pred, y_train)\n",
        "print(f\"Accuracy Training Data: {accuracy*100}%\")\n",
        "\n",
        "accuracy_test = accuracy_score(y_test_pred, y_test)\n",
        "print(f\"Accuracy Testing Data: {accuracy*100}%\")"
      ],
      "metadata": {
        "colab": {
          "base_uri": "https://localhost:8080/"
        },
        "id": "OU-xaljUdTri",
        "outputId": "db444189-7517-46a8-bc94-d9f932c384f9"
      },
      "execution_count": 155,
      "outputs": [
        {
          "output_type": "stream",
          "name": "stdout",
          "text": [
            "Accuracy Training Data: 100.0%\n",
            "Accuracy Testing Data: 100.0%\n"
          ]
        }
      ]
    },
    {
      "cell_type": "markdown",
      "source": [
        "En este caso, estamos teniendo una accuracy de 100% en ambos casos, tanto para los datos de entrenamiento como para los datos de prueba."
      ],
      "metadata": {
        "id": "unYRLGZRh6Ug"
      }
    },
    {
      "cell_type": "markdown",
      "source": [
        "Vamos a revisar las demás métricas también creando un reporte de los datos de entrenamiento y de los datos de prueba.  \n"
      ],
      "metadata": {
        "id": "0IecnbBXh9cg"
      }
    },
    {
      "cell_type": "markdown",
      "source": [
        "Reporte de métricas datos de entrenamiento"
      ],
      "metadata": {
        "id": "jWWLQbGhiGBN"
      }
    },
    {
      "cell_type": "code",
      "source": [
        "# Reporte de los datos de entrenamiento\n",
        "print(classification_report(y_train, y_train_pred))"
      ],
      "metadata": {
        "colab": {
          "base_uri": "https://localhost:8080/"
        },
        "id": "5VwIECqSh5wV",
        "outputId": "68da547d-36f3-4b59-8f9b-01b8fc490a97"
      },
      "execution_count": 156,
      "outputs": [
        {
          "output_type": "stream",
          "name": "stdout",
          "text": [
            "                 precision    recall  f1-score   support\n",
            "\n",
            "    Iris-setosa       1.00      1.00      1.00        41\n",
            "Iris-versicolor       1.00      1.00      1.00        42\n",
            " Iris-virginica       1.00      1.00      1.00        37\n",
            "\n",
            "       accuracy                           1.00       120\n",
            "      macro avg       1.00      1.00      1.00       120\n",
            "   weighted avg       1.00      1.00      1.00       120\n",
            "\n"
          ]
        }
      ]
    },
    {
      "cell_type": "markdown",
      "source": [
        "Reporte de las métricas de los datos de testeo"
      ],
      "metadata": {
        "id": "njc-9JRIiLV3"
      }
    },
    {
      "cell_type": "code",
      "source": [
        "print(classification_report(y_test, y_test_pred))"
      ],
      "metadata": {
        "colab": {
          "base_uri": "https://localhost:8080/"
        },
        "id": "X8NvcSACiOxn",
        "outputId": "b80918f4-c585-41ac-e2e5-f0252432b013"
      },
      "execution_count": 157,
      "outputs": [
        {
          "output_type": "stream",
          "name": "stdout",
          "text": [
            "                 precision    recall  f1-score   support\n",
            "\n",
            "    Iris-setosa       1.00      1.00      1.00         9\n",
            "Iris-versicolor       0.80      1.00      0.89         8\n",
            " Iris-virginica       1.00      0.85      0.92        13\n",
            "\n",
            "       accuracy                           0.93        30\n",
            "      macro avg       0.93      0.95      0.94        30\n",
            "   weighted avg       0.95      0.93      0.93        30\n",
            "\n"
          ]
        }
      ]
    },
    {
      "cell_type": "markdown",
      "source": [
        "Se puede observar que los datos de entrenamiento tienen resultados practicamente perfectos en cuestión de las métricas, mientras que los datos de testeo tampoco se quedaron atrás, pues si bien no son completamente perfectos, tienen valores muy cercanos a 1, lo que nos indica que el modelo va por muy buen camino y está clasificando correctamente."
      ],
      "metadata": {
        "id": "YqDKochciw89"
      }
    },
    {
      "cell_type": "markdown",
      "source": [
        "También, para analizar el desempeño del modelo por medio de una tabla, seleccionamos 3 registros aleatorios de nuestro set de testeo para comparalos con los valores reales de y."
      ],
      "metadata": {
        "id": "bflep4hDk4mO"
      }
    },
    {
      "cell_type": "code",
      "source": [
        "import random\n",
        "# Seleccionamos 3 valores aleatorios del set de testing.\n",
        "random_indices = random.sample(range(len(X_test)), 3)\n",
        "\n",
        "# Usamos estos índices para seleccionar los valores respectivos de X y Y, y además\n",
        "random_x_test = X_test.iloc[random_indices]\n",
        "random_predict = myTree.predict(random_x_test)\n",
        "random_y_test = y_test.iloc[random_indices]\n",
        "\n",
        "# Creamos una tabla para comparar nuestros valores de prueba.\n",
        "comparison_table = pd.DataFrame({\n",
        "    'Predicted_y': random_predict.tolist(),\n",
        "    'Real_y': random_y_test.reset_index(drop=True).values.tolist()\n",
        "})\n",
        "\n",
        "print(\"Comparison Table:\")\n",
        "print(comparison_table)"
      ],
      "metadata": {
        "colab": {
          "base_uri": "https://localhost:8080/"
        },
        "id": "rBPm6QXpWjNO",
        "outputId": "afc8b1f9-1a2a-48c0-8b00-b61c5b91da68"
      },
      "execution_count": 158,
      "outputs": [
        {
          "output_type": "stream",
          "name": "stdout",
          "text": [
            "Comparison Table:\n",
            "       Predicted_y          Real_y\n",
            "0      Iris-setosa     Iris-setosa\n",
            "1      Iris-setosa     Iris-setosa\n",
            "2  Iris-versicolor  Iris-virginica\n"
          ]
        }
      ]
    },
    {
      "cell_type": "markdown",
      "source": [
        "En la prueba realizada, los 3 registros aleatorios que se seleccionaron fueron clasificados correctamente. Sin embargo, esto podría variar pues cada vez que se corre el bloque de código, se van a seleccionar diferentes pruebas del set total de pruebas."
      ],
      "metadata": {
        "id": "4W36yVJWadBI"
      }
    },
    {
      "cell_type": "markdown",
      "source": [
        "Ahora, vamos a probar modificar otros parámetros para analizar de qué manera cambia el desempeño del Árbol de Decisión."
      ],
      "metadata": {
        "id": "sZ1d_OIYkpHj"
      }
    },
    {
      "cell_type": "markdown",
      "source": [
        "En este nuevo árbol, vamos a modificar los parámetros de max_depth y de max_features. También, vamos a dejar que el criterio siga siendo por entropía. Revisaremos los resultados de las métricas igualmente."
      ],
      "metadata": {
        "id": "t3sitQ3x3JE7"
      }
    },
    {
      "cell_type": "code",
      "source": [
        "# Creamos nuestro objeto de Árbol de Decisión.\n",
        "# Ahora etndremos una máxima profundidad del árbol de 3, y una máxima cantidad de features a considerar de 3, para ver cuanto cambia.\n",
        "newTree = DecisionTreeClassifier(criterion=\"entropy\", max_depth=3, max_features=3)\n",
        "newTree.fit(X_train,y_train)"
      ],
      "metadata": {
        "colab": {
          "base_uri": "https://localhost:8080/",
          "height": 562
        },
        "id": "OIc-CS-ElWv1",
        "outputId": "c14db55d-1da1-4f7a-d9df-3fdc45d9d77e"
      },
      "execution_count": 163,
      "outputs": [
        {
          "output_type": "execute_result",
          "data": {
            "text/plain": [
              "[Text(0.375, 0.875, 'x[3] <= 0.8\\nentropy = 1.583\\nsamples = 120\\nvalue = [41, 42, 37]'),\n",
              " Text(0.25, 0.625, 'entropy = 0.0\\nsamples = 41\\nvalue = [41, 0, 0]'),\n",
              " Text(0.5, 0.625, 'x[3] <= 1.75\\nentropy = 0.997\\nsamples = 79\\nvalue = [0, 42, 37]'),\n",
              " Text(0.25, 0.375, 'x[2] <= 4.95\\nentropy = 0.433\\nsamples = 45\\nvalue = [0, 41, 4]'),\n",
              " Text(0.125, 0.125, 'entropy = 0.169\\nsamples = 40\\nvalue = [0, 39, 1]'),\n",
              " Text(0.375, 0.125, 'entropy = 0.971\\nsamples = 5\\nvalue = [0, 2, 3]'),\n",
              " Text(0.75, 0.375, 'x[2] <= 4.85\\nentropy = 0.191\\nsamples = 34\\nvalue = [0, 1, 33]'),\n",
              " Text(0.625, 0.125, 'entropy = 1.0\\nsamples = 2\\nvalue = [0, 1, 1]'),\n",
              " Text(0.875, 0.125, 'entropy = 0.0\\nsamples = 32\\nvalue = [0, 0, 32]')]"
            ]
          },
          "metadata": {},
          "execution_count": 163
        },
        {
          "output_type": "display_data",
          "data": {
            "text/plain": [
              "<Figure size 640x480 with 1 Axes>"
            ],
            "image/png": "[encoded data removed]"
          },
          "metadata": {}
        }
      ]
    },
    {
      "cell_type": "markdown",
      "source": [
        "Predecimos los valores utilizando el nuevo modelo y graficamos el árbol con la configuración de esos nuevos parámetros."
      ],
      "metadata": {
        "id": "YlBOV_WG313W"
      }
    },
    {
      "cell_type": "code",
      "source": [
        "# Obtenemos las predicciones de los valores de prueba utilizando el modelo.\n",
        "y_train_pred = myTree.predict(X_train)\n",
        "y_test_pred = newTree.predict(X_test)\n",
        "plot_tree(newTree)"
      ],
      "metadata": {
        "id": "kJeokUGg3Hmf"
      },
      "execution_count": null,
      "outputs": []
    },
    {
      "cell_type": "markdown",
      "source": [
        "Obtenemos los resultados de las métricas de entrenamiento y del testeo."
      ],
      "metadata": {
        "id": "VFCRVe0R3-CA"
      }
    },
    {
      "cell_type": "code",
      "source": [
        "# Reporte de los datos de entrenamiento.\n",
        "print(classification_report(y_train, y_train_pred))\n",
        "\n",
        "# Reporte de los datos de prueba.\n",
        "print(classification_report(y_test, y_test_pred))"
      ],
      "metadata": {
        "colab": {
          "base_uri": "https://localhost:8080/"
        },
        "id": "XdsUwwllz4Cx",
        "outputId": "d4d9e8e2-c8ed-4a7f-922e-7c1d80464e58"
      },
      "execution_count": 164,
      "outputs": [
        {
          "output_type": "stream",
          "name": "stdout",
          "text": [
            "                 precision    recall  f1-score   support\n",
            "\n",
            "    Iris-setosa       1.00      1.00      1.00        41\n",
            "Iris-versicolor       1.00      1.00      1.00        42\n",
            " Iris-virginica       1.00      1.00      1.00        37\n",
            "\n",
            "       accuracy                           1.00       120\n",
            "      macro avg       1.00      1.00      1.00       120\n",
            "   weighted avg       1.00      1.00      1.00       120\n",
            "\n",
            "                 precision    recall  f1-score   support\n",
            "\n",
            "    Iris-setosa       1.00      1.00      1.00         9\n",
            "Iris-versicolor       0.89      1.00      0.94         8\n",
            " Iris-virginica       1.00      0.92      0.96        13\n",
            "\n",
            "       accuracy                           0.97        30\n",
            "      macro avg       0.96      0.97      0.97        30\n",
            "   weighted avg       0.97      0.97      0.97        30\n",
            "\n"
          ]
        }
      ]
    },
    {
      "cell_type": "markdown",
      "source": [
        "En los reportes, podemos observar que también tiene una calificación perfecta en el entrenamiento, y sorprendentemente, los resultados del testeo con este nuevo árbol configurado son ligeramente mejores que el pasado. Esto se puede ver especialmente en el f1-score y en la accuracy que en este nuevo árbol es de 97%, mientras que en el pasado era de 93%.\n",
        "\n",
        "Como conclusión, se podría decir que es importante conocer los diferentes posibles parámetros que se pueden modificar en nuestros modelos, y realizar pruebas para así encontrar el modelo con la mejor configuración posible."
      ],
      "metadata": {
        "id": "gRZU4ZK4276R"
      }
    }
  ]
}